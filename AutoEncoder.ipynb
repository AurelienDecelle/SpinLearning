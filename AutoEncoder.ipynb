{
 "cells": [
  {
   "cell_type": "markdown",
   "metadata": {},
   "source": [
    "# Autoencoder: learning a latent representation of the gauge symmetry"
   ]
  },
  {
   "cell_type": "code",
   "execution_count": 1,
   "metadata": {},
   "outputs": [],
   "source": [
    "import sys\n",
    "sys.path.append('src/')\n",
    "import tools as t\n",
    "import numpy as np"
   ]
  },
  {
   "cell_type": "code",
   "execution_count": 40,
   "metadata": {},
   "outputs": [
    {
     "name": "stdout",
     "output_type": "stream",
     "text": [
      "L= 5\n",
      "NS= 50000\n"
     ]
    }
   ],
   "source": [
    "# linear size of the system\n",
    "L=5\n",
    "Lx = L\n",
    "Ly = L\n",
    "\n",
    "# Number of sites\n",
    "N = Lx*Ly\n",
    "\n",
    "'''\n",
    "  get the connectivity matrix and the index\n",
    "  connectivity : dictionnary (x,y) -> J_{xy}\n",
    "  getindex : array idx -> (x,y)\n",
    "'''\n",
    "connectivity,getindex=t.compute_connectivity(Lx,Ly)\n",
    "\n",
    "## ncmax=int(0.5*len(connectivity))\n",
    "\n",
    "# number of samples\n",
    "NS=100000\n",
    "\n",
    "print(\"L=\",L)\n",
    "print(\"NS=\",NS)\n"
   ]
  },
  {
   "cell_type": "markdown",
   "metadata": {},
   "source": [
    "## Creating the dataset\n",
    "\n",
    "First, we construct a set of Ngauge orbits"
   ]
  },
  {
   "cell_type": "code",
   "execution_count": 41,
   "metadata": {},
   "outputs": [],
   "source": [
    "xdim = 2 * Lx \n",
    "ydim = 2 * Ly\n",
    "    \n",
    "# Creating a set of Ngauge random orbits\n",
    "Ngauge = 1000 # number of gauge orbits\n",
    "\n",
    "Chess_g = np.zeros((Ngauge,xdim,ydim))\n",
    "# Ngauge/2 random samples\n",
    "for ng in range(Ngauge//2):\n",
    "    Chess_g[ng,:,:] = t.createSample_2D(connectivity, Lx,Ly)\n",
    "\n",
    "# Ngauge/2 samples that are created to be near the first ones\n",
    "for ng in np.arange(Ngauge//2,Ngauge):\n",
    "    ng_rdm = np.random.choice(range(Ngauge//2))\n",
    "    transformation_type=np.random.choice(range(2))\n",
    "    '''\n",
    "    transformation_type : choose which type of modification\n",
    "      0=R_q : flip q random Js\n",
    "      1=L : breaking a line\n",
    "    '''   \n",
    "    if transformation_type==0:\n",
    "        nchanges=np.random.choice(range(1,4))+0.1\n",
    "        q=nchanges/len(connectivity)\n",
    "        Trasf = t.getRandom_2D(Chess_g[ng_rdm,:,:], connectivity, q, Lx,Ly) \n",
    "    if transformation_type==1:\n",
    "        Trasf = t.getLine_2D(Chess_g[ng_rdm,:,:],connectivity, Lx,Ly)\n",
    "        \n",
    "    Chess_g[ng] = t.getOrbit_2D(Trasf,connectivity,Lx,Ly)\n",
    "    "
   ]
  },
  {
   "cell_type": "markdown",
   "metadata": {},
   "source": [
    "#### Then we build pair of samples-gaugefixed(samples) for the autoenoder"
   ]
  },
  {
   "cell_type": "code",
   "execution_count": 42,
   "metadata": {},
   "outputs": [],
   "source": [
    "X_train = np.zeros((NS,xdim,ydim,1))\n",
    "y_train = np.zeros((NS,xdim,ydim,1))\n",
    "label = np.zeros(NS)\n",
    "for ns in range(NS):\n",
    "    gauge = np.random.randint(Ngauge)\n",
    "    # X_train : we put a gauge transform of an orbit choosen randomly\n",
    "    X_train[ns, :, :, 0] = t.getOrbit_2D(Chess_g[gauge,:,:],connectivity, Lx, Ly)\n",
    "    # y_train : the gauge-fixed version of X_train\n",
    "    y_train[ns, :, :, 0] = t.gauge_fixing_Comb(Chess_g[gauge,:,:],connectivity,Lx,Ly)\n",
    "    \n",
    "    # we save to which gauge the sample belongs \n",
    "    label[ns] = gauge"
   ]
  },
  {
   "cell_type": "markdown",
   "metadata": {},
   "source": [
    "#### Building the true test set (with independant samples)"
   ]
  },
  {
   "cell_type": "code",
   "execution_count": 43,
   "metadata": {},
   "outputs": [],
   "source": [
    "NS_Test = 5000\n",
    "X_test = np.zeros((NS_Test, xdim, ydim, 1))\n",
    "y_test = np.zeros((NS_Test, xdim, ydim, 1))\n",
    "for i in range(NS_Test):\n",
    "    Smpl = t.createSample_2D(connectivity, Lx,Ly)\n",
    "    X_test[i,:,:,0] = Smpl\n",
    "    y_test[i,:,:,0] = t.gauge_fixing_Comb(X_test[i,:,:,0],connectivity,Lx,Ly)\n"
   ]
  },
  {
   "cell_type": "markdown",
   "metadata": {},
   "source": [
    "## Constructing the AutoEncoder"
   ]
  },
  {
   "cell_type": "code",
   "execution_count": 44,
   "metadata": {},
   "outputs": [
    {
     "name": "stdout",
     "output_type": "stream",
     "text": [
      "__________________________________________________________________________________________________\n",
      "Layer (type)                    Output Shape         Param #     Connected to                     \n",
      "==================================================================================================\n",
      "input_9 (InputLayer)            (None, 10, 10, 1)    0                                            \n",
      "__________________________________________________________________________________________________\n",
      "conv2d_19 (Conv2D)              (None, 5, 5, 32)     320         input_9[0][0]                    \n",
      "__________________________________________________________________________________________________\n",
      "conv2d_17 (Conv2D)              (None, 10, 1, 16)    176         input_9[0][0]                    \n",
      "__________________________________________________________________________________________________\n",
      "conv2d_18 (Conv2D)              (None, 1, 10, 16)    176         input_9[0][0]                    \n",
      "__________________________________________________________________________________________________\n",
      "flatten_12 (Flatten)            (None, 800)          0           conv2d_19[0][0]                  \n",
      "__________________________________________________________________________________________________\n",
      "flatten_10 (Flatten)            (None, 160)          0           conv2d_17[0][0]                  \n",
      "__________________________________________________________________________________________________\n",
      "flatten_11 (Flatten)            (None, 160)          0           conv2d_18[0][0]                  \n",
      "__________________________________________________________________________________________________\n",
      "concatenate_8 (Concatenate)     (None, 1120)         0           flatten_12[0][0]                 \n",
      "                                                                 flatten_10[0][0]                 \n",
      "                                                                 flatten_11[0][0]                 \n",
      "__________________________________________________________________________________________________\n",
      "dense_9 (Dense)                 (None, 50)           56050       concatenate_8[0][0]              \n",
      "__________________________________________________________________________________________________\n",
      "reshape_6 (Reshape)             (None, 5, 5, 2)      0           dense_9[0][0]                    \n",
      "__________________________________________________________________________________________________\n",
      "conv2d_20 (Conv2D)              (None, 5, 5, 64)     1216        reshape_6[0][0]                  \n",
      "__________________________________________________________________________________________________\n",
      "up_sampling2d_3 (UpSampling2D)  (None, 10, 10, 64)   0           conv2d_20[0][0]                  \n",
      "__________________________________________________________________________________________________\n",
      "conv2d_21 (Conv2D)              (None, 10, 10, 32)   18464       up_sampling2d_3[0][0]            \n",
      "__________________________________________________________________________________________________\n",
      "conv2d_22 (Conv2D)              (None, 10, 10, 32)   20512       up_sampling2d_3[0][0]            \n",
      "__________________________________________________________________________________________________\n",
      "conv2d_23 (Conv2D)              (None, 10, 10, 32)   20512       up_sampling2d_3[0][0]            \n",
      "__________________________________________________________________________________________________\n",
      "concatenate_9 (Concatenate)     (None, 10, 10, 96)   0           conv2d_21[0][0]                  \n",
      "                                                                 conv2d_22[0][0]                  \n",
      "                                                                 conv2d_23[0][0]                  \n",
      "__________________________________________________________________________________________________\n",
      "conv2d_24 (Conv2D)              (None, 10, 10, 1)    2401        concatenate_9[0][0]              \n",
      "==================================================================================================\n",
      "Total params: 119,827\n",
      "Trainable params: 119,827\n",
      "Non-trainable params: 0\n",
      "__________________________________________________________________________________________________\n",
      "Train on 50000 samples, validate on 5000 samples\n",
      "Epoch 1/4\n",
      "50000/50000 [==============================] - 221s 4ms/step - loss: 0.2347 - acc: 0.7619 - val_loss: 0.2113 - val_acc: 0.8066\n",
      "Epoch 2/4\n",
      "50000/50000 [==============================] - 248s 5ms/step - loss: 0.1348 - acc: 0.8633 - val_loss: 0.1830 - val_acc: 0.8679\n",
      "Epoch 3/4\n",
      "50000/50000 [==============================] - 246s 5ms/step - loss: 0.0861 - acc: 0.9140 - val_loss: 0.1849 - val_acc: 0.8769\n",
      "Epoch 4/4\n",
      "50000/50000 [==============================] - 260s 5ms/step - loss: 0.0649 - acc: 0.9366 - val_loss: 0.1906 - val_acc: 0.8794\n"
     ]
    },
    {
     "data": {
      "text/plain": [
       "<keras.callbacks.History at 0x7f4136bd2b38>"
      ]
     },
     "execution_count": 44,
     "metadata": {},
     "output_type": "execute_result"
    }
   ],
   "source": [
    "import keras\n",
    "from keras.layers import Input, Dense, Conv2D, MaxPooling2D, Flatten, concatenate, Reshape, UpSampling2D\n",
    "from keras.models import Model\n",
    "from keras.optimizers import Adam\n",
    "\n",
    "Strain = X_train.shape[0]\n",
    "Stest = X_test.shape[0]\n",
    "\n",
    "\n",
    "input_data = Input(shape=(xdim,ydim,1))\n",
    "\n",
    "# ENCODER DNN\n",
    "NFilterLines = 16 # No. of filters for the horizontal & vertical slab-CNNs\n",
    "NFiltersPlaq = 32 # No. of filters for the plaquettes CNNs\n",
    "\n",
    "# one layer getting vertical filter\n",
    "vert_conv2D = Conv2D(NFilterLines,(1,ydim),activation='relu', padding='valid',strides=(1,1))(input_data)\n",
    "vert_conv2D = Flatten()(vert_conv2D)\n",
    "# one layer getting horizontal filter\n",
    "horiz_conv2D = Conv2D(NFilterLines,(xdim,1),activation='relu', padding='valid',strides=(1,1))(input_data)\n",
    "horiz_conv2D = Flatten()(horiz_conv2D)\n",
    "# one layer for the plaquette\n",
    "plaq_conv2D = Conv2D(NFiltersPlaq,(3,3),activation='relu', padding='same',strides=(2,2))(input_data)\n",
    "plaq_conv2D = Flatten()(plaq_conv2D)\n",
    "\n",
    "# We concatenate the outputs from the three CNNs\n",
    "x = concatenate([plaq_conv2D,vert_conv2D,horiz_conv2D])\n",
    "Encoded = Dense(5*5*2,activation='relu')(x)\n",
    "\n",
    "#DECODER DNN\n",
    "NFilters_Dec = 64\n",
    "x = Reshape((5,5,2),input_shape=(6*6*64,))(Encoded)\n",
    "x = Conv2D(NFilters_Dec,(3,3),activation='relu', padding='same',strides=(1,1))(x)\n",
    "\n",
    "x = UpSampling2D(size=(2,2))(x)\n",
    "dec_sqr = Conv2D(NFilters_Dec//2,(3,3),activation='relu', padding='same',strides=(1,1))(x)\n",
    "dec_horiz = Conv2D(NFilters_Dec//2,(1,ydim),activation='relu', padding='same',strides=(1,1))(x)\n",
    "dec_vert = Conv2D(NFilters_Dec//2,(xdim,1),activation='relu', padding='same',strides=(1,1))(x)\n",
    "\n",
    "x = concatenate([dec_sqr,dec_horiz,dec_vert])\n",
    "Decoded = Conv2D(1,(5,5),activation='linear', padding='same',strides=(1,1))(x)\n",
    "\n",
    "# we define the encoder separately for a later study (not used for the fit)\n",
    "ENC = Model(input_data,Encoded)\n",
    "\n",
    "\n",
    "# building the AutoEncoder\n",
    "DCAE = Model(input_data,Decoded)\n",
    "DCAE.summary()\n",
    "DCAE.compile(optimizer=\"Adam\",loss=\"mean_squared_error\", metrics=[\"accuracy\"])\n",
    "\n",
    "b_size = 32\n",
    "epochs = 4\n",
    "\n",
    "DCAE.fit(X_train,y_train, epochs=epochs, batch_size=b_size, validation_data=(X_test,y_test))"
   ]
  },
  {
   "cell_type": "markdown",
   "metadata": {},
   "source": [
    "## Testing the AutoEncoder\n",
    "We build three samples :\n",
    "* X1 : a random one\n",
    "* X1_G : is a gauge transformation of XA\n",
    "* X1_RDM : is a random one\n",
    "\n",
    "Then we test the prediction of the network, it should be the same for X1 and X1_G.\n",
    "We also test if they belong to the same fixed-gauge."
   ]
  },
  {
   "cell_type": "code",
   "execution_count": 45,
   "metadata": {},
   "outputs": [
    {
     "data": {
      "text/plain": [
       "<matplotlib.image.AxesImage at 0x7f413b9af8d0>"
      ]
     },
     "execution_count": 45,
     "metadata": {},
     "output_type": "execute_result"
    },
    {
     "data": {
      "image/png": "[encoded data removed]",
      "text/plain": [
       "<Figure size 720x720 with 5 Axes>"
      ]
     },
     "metadata": {
      "needs_background": "light"
     },
     "output_type": "display_data"
    },
    {
     "data": {
      "image/png": "[encoded data removed]",
      "text/plain": [
       "<Figure size 720x720 with 5 Axes>"
      ]
     },
     "metadata": {
      "needs_background": "light"
     },
     "output_type": "display_data"
    }
   ],
   "source": [
    "import matplotlib.pyplot as plt\n",
    "\n",
    "X1 = t.createSample_2D(connectivity, Lx,Ly)\n",
    "X1_G = t.getOrbit_2D(X1,connectivity, Lx, Ly)\n",
    "X1_RDM = t.createSample_2D(connectivity, Lx,Ly)\n",
    "\n",
    "X1_p     = DCAE.predict(X1.reshape((1,xdim,ydim,1)))\n",
    "X1_G_p   = DCAE.predict(X1_G.reshape((1,xdim,ydim,1)))\n",
    "X1_RDM_p = DCAE.predict(X1_RDM.reshape((1,xdim,ydim,1)))\n",
    "\n",
    "f,ax = plt.subplots(1,5,figsize=(10,10))\n",
    "ax[0].imshow(X1_p[0,:,:,0],vmin=-1,vmax=1)\n",
    "ax[1].imshow(X1_G_p[0,:,:,0],vmin=-1,vmax=1)\n",
    "ax[2].imshow(X1_RDM_p[0,:,:,0],vmin=-1,vmax=1)\n",
    "ax[3].imshow(X1_p[0,:,:,0]-X1_G_p[0,:,:,0],vmin=-1,vmax=1)\n",
    "ax[4].imshow(X1_p[0,:,:,0]-X1_RDM_p[0,:,:,0],vmin=-1,vmax=1)\n",
    "\n",
    "G1     = t.gauge_fixing_Comb(np.sign(X1_p[0,:,:,0]),connectivity,Lx,Ly)\n",
    "G1_G   = t.gauge_fixing_Comb(np.sign(X1_G_p[0,:,:,0]),connectivity,Lx,Ly)\n",
    "G1_RDM = t.gauge_fixing_Comb(np.sign(X1_RDM_p[0,:,:,0]),connectivity,Lx,Ly)\n",
    "\n",
    "f,ax = plt.subplots(1,5,figsize=(10,10))\n",
    "ax[0].imshow(G1,vmin=-1,vmax=1)\n",
    "ax[1].imshow(G1_G,vmin=-1,vmax=1)\n",
    "ax[2].imshow(G1_RDM,vmin=-1,vmax=1)\n",
    "ax[3].imshow(G1-G1_G,vmin=-1,vmax=1)\n",
    "ax[4].imshow(G1-G1_RDM,vmin=-1,vmax=1)\n"
   ]
  },
  {
   "cell_type": "markdown",
   "metadata": {},
   "source": [
    "## Comparison of the latent representation of the Encoder\n",
    "\n",
    "Starting from a random sample (named $J$), we make a scatter between the latent representation $J$ and of other cases\n",
    "* with an orbit of $J$\n",
    "* with a sample that differ only by a $q$ flipped couplings\n",
    "* with a sample where a line is broken\n",
    "* with a random sample "
   ]
  },
  {
   "cell_type": "code",
   "execution_count": 46,
   "metadata": {},
   "outputs": [
    {
     "data": {
      "text/plain": [
       "<matplotlib.legend.Legend at 0x7f413b84fef0>"
      ]
     },
     "execution_count": 46,
     "metadata": {},
     "output_type": "execute_result"
    },
    {
     "data": {
      "image/png": "[encoded data removed]",
      "text/plain": [
       "<Figure size 720x648 with 1 Axes>"
      ]
     },
     "metadata": {
      "needs_background": "light"
     },
     "output_type": "display_data"
    }
   ],
   "source": [
    "X1_enc = ENC.predict(X1.reshape((1,xdim,ydim,1)))\n",
    "X1_G_enc = ENC.predict(X1_G.reshape((1,xdim,ydim,1)))\n",
    "X1_RDM_enc = ENC.predict(X1_RDM.reshape((1,xdim,ydim,1)))\n",
    "X1_Line = ENC.predict(t.getLine_2D(X1, connectivity, Lx,Ly).reshape((1,xdim,ydim,1)))\n",
    "X1_Q = ENC.predict(t.getRandom_2D(X1, connectivity, 0.1, Lx,Ly).reshape((1,xdim,ydim,1)))\n",
    "\n",
    "xm = max(np.concatenate((X1_enc[0,:],X1_G_enc[0,:],X1_Line[0,:],X1_Q[0,:],X1_RDM_enc[0,:]),axis=0))\n",
    "myx = np.arange(0,xm,0.01)\n",
    "plt.figure(figsize=(10,9))\n",
    "plt.scatter(X1_enc[0,:],X1_G_enc[0,:],marker='o',label=\"$J$-O($J$)\",s=60)\n",
    "plt.scatter(X1_enc[0,:],X1_RDM_enc[0,:],marker='x',label=\"$J$-$J'$\")\n",
    "plt.scatter(X1_enc[0,:],X1_Line[0,:],marker='x',label=\"$J$-L($J$)\")\n",
    "plt.scatter(X1_enc[0,:],X1_Q[0,:],marker='x',label=\"$J$-$R_q(J)$ $q=0.1$\")\n",
    "plt.plot(myx,myx,'-')# ,label=\"y=x\")\n",
    "plt.legend(prop={'size': 22},handletextpad=0,borderpad=0.2,labelspacing=0.2,handlelength=0.9,loc=2)"
   ]
  },
  {
   "cell_type": "code",
   "execution_count": 29,
   "metadata": {},
   "outputs": [],
   "source": [
    "# Saving the weights of the AutoEncoder\n",
    "DCAE.save_weights(\"DCAE_Ex1.d\")"
   ]
  },
  {
   "cell_type": "markdown",
   "metadata": {},
   "source": [
    "## Classifying using the latent representation"
   ]
  },
  {
   "cell_type": "markdown",
   "metadata": {},
   "source": [
    "#### Creating a new dataset for classification"
   ]
  },
  {
   "cell_type": "code",
   "execution_count": 47,
   "metadata": {},
   "outputs": [],
   "source": [
    "NS=2000\n",
    "NS_GG=NS_GL=NS\n",
    "\n",
    "DataSet = np.zeros((NS_GG  + NS_GL, xdim, ydim, 2))\n",
    "Labels = np.zeros((NS_GG + NS_GL))\n",
    "Labels2 = np.zeros((NS_GG + NS_GL))\n",
    "\n",
    "DS_G = np.zeros((1000, xdim, ydim, 2))\n",
    "DS_Q = np.zeros((1000, xdim, ydim, 2))\n",
    "DS_LINE = np.zeros((1000, xdim, ydim, 2))\n",
    "\n",
    "for ns in range(NS_GG):\n",
    "    Chess = t.createSample_2D(connectivity, Lx,Ly)\n",
    "    DataSet[ns, :, :, 0] = Chess\n",
    "    DataSet[ns, :, :, 1] = t.getOrbit_2D(Chess,connectivity, Lx,Ly)\n",
    "\n",
    "for ns in range(NS_GG, NS_GG + NS_GL):\n",
    "    Chess = t.createSample_2D(connectivity, Lx,Ly)\n",
    "    DataSet[ns, :, :, 0] = Chess \n",
    "\n",
    "    tipo=np.random.choice(range(2))    \n",
    "    if tipo==0:\n",
    "        q0= 0.1\n",
    "        q=np.random.random()*0.25+q0\n",
    "        Trasf = t.getRandom_2D(Chess, connectivity, q, Lx,Ly)    \n",
    "    if tipo==1:\n",
    "        Trasf = t.getLine_2D(Chess,connectivity, Lx,Ly)\n",
    "        \n",
    "    Trasf = t.getOrbit_2D(Trasf,connectivity, Lx,Ly)\n",
    "    DataSet[ns, :, :, 1] = Trasf\n",
    "    \n",
    "Labels[NS_GG: NS_GG + NS_GL] = 1\n",
    "\n",
    "\n",
    "for ns in range(1000):\n",
    "    Chess = t.createSample_2D(connectivity, Lx,Ly)\n",
    "    DS_G[ns, :, :, 0] = Chess\n",
    "    DS_G[ns, :, :, 1] = t.getOrbit_2D(Chess,connectivity, Lx,Ly)\n",
    "    DS_Q[ns, :, :, 0] = Chess\n",
    "    DS_LINE[ns, :, :, 0] = Chess\n",
    "    \n",
    "    q0=0.1 # 1./Lx/Ly\n",
    "    q=np.random.random()*0.25+q0\n",
    "    DS_Q[ns, :, :, 1] = t.getOrbit_2D(t.getRandom_2D(Chess, connectivity, q, Lx,Ly),connectivity,Lx,Ly)\n",
    "    DS_LINE[ns, :, :, 1] = t.getOrbit_2D(t.getLine_2D(Chess, connectivity, Lx,Ly),connectivity,Lx,Ly)\n",
    "    \n",
    "permutation = np.random.permutation(Labels.shape[0])\n",
    "DataSet = DataSet[permutation,:,:,:]\n",
    "Labels = Labels[permutation]\n",
    "X_train_C,y_train_C,X_test_C,y_test_C = t.SplitSet(DataSet,Labels,0.8)\n"
   ]
  },
  {
   "cell_type": "code",
   "execution_count": 48,
   "metadata": {},
   "outputs": [
    {
     "name": "stderr",
     "output_type": "stream",
     "text": [
      "/home/aurele/anaconda3/lib/python3.6/site-packages/ipykernel_launcher.py:27: UserWarning: Update your `Model` call to the Keras 2 API: `Model(inputs=[<tf.Tenso..., outputs=Tensor(\"de...)`\n"
     ]
    },
    {
     "name": "stdout",
     "output_type": "stream",
     "text": [
      "__________________________________________________________________________________________________\n",
      "Layer (type)                    Output Shape         Param #     Connected to                     \n",
      "==================================================================================================\n",
      "input_10 (InputLayer)           (None, 10, 10, 1)    0                                            \n",
      "__________________________________________________________________________________________________\n",
      "input_11 (InputLayer)           (None, 10, 10, 1)    0                                            \n",
      "__________________________________________________________________________________________________\n",
      "model_8 (Model)                 (None, 50)           56722       input_10[0][0]                   \n",
      "                                                                 input_11[0][0]                   \n",
      "__________________________________________________________________________________________________\n",
      "concatenate_10 (Concatenate)    (None, 100)          0           model_8[1][0]                    \n",
      "                                                                 model_8[2][0]                    \n",
      "__________________________________________________________________________________________________\n",
      "reshape_7 (Reshape)             (None, 50, 2)        0           concatenate_10[0][0]             \n",
      "__________________________________________________________________________________________________\n",
      "conv1d_7 (Conv1D)               (None, 50, 16)       1040        reshape_7[0][0]                  \n",
      "__________________________________________________________________________________________________\n",
      "max_pooling1d_7 (MaxPooling1D)  (None, 25, 16)       0           conv1d_7[0][0]                   \n",
      "__________________________________________________________________________________________________\n",
      "conv1d_8 (Conv1D)               (None, 25, 32)       8224        max_pooling1d_7[0][0]            \n",
      "__________________________________________________________________________________________________\n",
      "max_pooling1d_8 (MaxPooling1D)  (None, 12, 32)       0           conv1d_8[0][0]                   \n",
      "__________________________________________________________________________________________________\n",
      "flatten_13 (Flatten)            (None, 384)          0           max_pooling1d_8[0][0]            \n",
      "__________________________________________________________________________________________________\n",
      "dense_10 (Dense)                (None, 32)           12320       flatten_13[0][0]                 \n",
      "__________________________________________________________________________________________________\n",
      "dense_11 (Dense)                (None, 2)            66          dense_10[0][0]                   \n",
      "==================================================================================================\n",
      "Total params: 78,372\n",
      "Trainable params: 21,650\n",
      "Non-trainable params: 56,722\n",
      "__________________________________________________________________________________________________\n",
      "Train on 3200 samples, validate on 800 samples\n",
      "Epoch 1/30\n",
      "3200/3200 [==============================] - 6s 2ms/step - loss: 0.6953 - acc: 0.5269 - val_loss: 0.6931 - val_acc: 0.5150\n",
      "Epoch 2/30\n",
      "3200/3200 [==============================] - 3s 1ms/step - loss: 0.6665 - acc: 0.5962 - val_loss: 0.6379 - val_acc: 0.6675\n",
      "Epoch 3/30\n",
      "3200/3200 [==============================] - 3s 795us/step - loss: 0.5915 - acc: 0.6741 - val_loss: 0.5370 - val_acc: 0.7288\n",
      "Epoch 4/30\n",
      "3200/3200 [==============================] - 3s 898us/step - loss: 0.4811 - acc: 0.7800 - val_loss: 0.4497 - val_acc: 0.7963\n",
      "Epoch 5/30\n",
      "3200/3200 [==============================] - 3s 916us/step - loss: 0.3944 - acc: 0.8372 - val_loss: 0.3917 - val_acc: 0.8438\n",
      "Epoch 6/30\n",
      "3200/3200 [==============================] - 3s 960us/step - loss: 0.3554 - acc: 0.8494 - val_loss: 0.4052 - val_acc: 0.7875\n",
      "Epoch 7/30\n",
      "3200/3200 [==============================] - 3s 869us/step - loss: 0.3286 - acc: 0.8594 - val_loss: 0.3809 - val_acc: 0.8375\n",
      "Epoch 8/30\n",
      "3200/3200 [==============================] - 4s 1ms/step - loss: 0.2848 - acc: 0.8897 - val_loss: 0.3060 - val_acc: 0.8675\n",
      "Epoch 9/30\n",
      "3200/3200 [==============================] - 3s 1ms/step - loss: 0.2664 - acc: 0.8978 - val_loss: 0.2877 - val_acc: 0.8788\n",
      "Epoch 10/30\n",
      "3200/3200 [==============================] - 3s 887us/step - loss: 0.2133 - acc: 0.9175 - val_loss: 0.1992 - val_acc: 0.9400\n",
      "Epoch 11/30\n",
      "3200/3200 [==============================] - 3s 971us/step - loss: 0.1866 - acc: 0.9284 - val_loss: 0.1490 - val_acc: 0.9413\n",
      "Epoch 12/30\n",
      "3200/3200 [==============================] - 4s 1ms/step - loss: 0.1611 - acc: 0.9403 - val_loss: 0.1372 - val_acc: 0.9537\n",
      "Epoch 13/30\n",
      "3200/3200 [==============================] - 4s 1ms/step - loss: 0.1297 - acc: 0.9525 - val_loss: 0.1632 - val_acc: 0.9363\n",
      "Epoch 14/30\n",
      "3200/3200 [==============================] - 4s 1ms/step - loss: 0.1167 - acc: 0.9578 - val_loss: 0.1207 - val_acc: 0.9525\n",
      "Epoch 15/30\n",
      "3200/3200 [==============================] - 5s 1ms/step - loss: 0.1110 - acc: 0.9578 - val_loss: 0.1578 - val_acc: 0.9425\n",
      "Epoch 16/30\n",
      "3200/3200 [==============================] - 4s 1ms/step - loss: 0.0926 - acc: 0.9694 - val_loss: 0.1084 - val_acc: 0.9525\n",
      "Epoch 17/30\n",
      "3200/3200 [==============================] - 4s 1ms/step - loss: 0.0847 - acc: 0.9697 - val_loss: 0.1187 - val_acc: 0.9525\n",
      "Epoch 18/30\n",
      "3200/3200 [==============================] - 4s 1ms/step - loss: 0.0844 - acc: 0.9688 - val_loss: 0.0942 - val_acc: 0.9650\n",
      "Epoch 19/30\n",
      "3200/3200 [==============================] - 5s 2ms/step - loss: 0.0852 - acc: 0.9688 - val_loss: 0.0885 - val_acc: 0.9650\n",
      "Epoch 20/30\n",
      "3200/3200 [==============================] - 6s 2ms/step - loss: 0.0890 - acc: 0.9681 - val_loss: 0.1230 - val_acc: 0.9475\n",
      "Epoch 21/30\n",
      "3200/3200 [==============================] - 4s 1ms/step - loss: 0.0711 - acc: 0.9744 - val_loss: 0.0801 - val_acc: 0.9712\n",
      "Epoch 22/30\n",
      "3200/3200 [==============================] - 4s 1ms/step - loss: 0.0715 - acc: 0.9731 - val_loss: 0.1160 - val_acc: 0.9587\n",
      "Epoch 23/30\n",
      "3200/3200 [==============================] - 4s 1ms/step - loss: 0.0792 - acc: 0.9712 - val_loss: 0.2297 - val_acc: 0.9187\n",
      "Epoch 24/30\n",
      "3200/3200 [==============================] - 3s 984us/step - loss: 0.0830 - acc: 0.9700 - val_loss: 0.0738 - val_acc: 0.9788\n",
      "Epoch 25/30\n",
      "3200/3200 [==============================] - 4s 1ms/step - loss: 0.0619 - acc: 0.9775 - val_loss: 0.0947 - val_acc: 0.9738\n",
      "Epoch 26/30\n",
      "3200/3200 [==============================] - 4s 1ms/step - loss: 0.0954 - acc: 0.9628 - val_loss: 0.1913 - val_acc: 0.9425\n",
      "Epoch 27/30\n",
      "3200/3200 [==============================] - 3s 849us/step - loss: 0.0585 - acc: 0.9800 - val_loss: 0.0937 - val_acc: 0.9637\n",
      "Epoch 28/30\n",
      "3200/3200 [==============================] - 3s 1ms/step - loss: 0.0282 - acc: 0.9912 - val_loss: 0.0898 - val_acc: 0.9700\n",
      "Epoch 29/30\n",
      "3200/3200 [==============================] - 4s 1ms/step - loss: 0.0543 - acc: 0.9762 - val_loss: 0.0833 - val_acc: 0.9700\n",
      "Epoch 30/30\n",
      "3200/3200 [==============================] - 3s 924us/step - loss: 0.0609 - acc: 0.9775 - val_loss: 0.0808 - val_acc: 0.9762\n"
     ]
    },
    {
     "data": {
      "text/plain": [
       "<keras.callbacks.History at 0x7f413b610d30>"
      ]
     },
     "execution_count": 48,
     "metadata": {},
     "output_type": "execute_result"
    }
   ],
   "source": [
    "# Make a network to classify the hidden representation\n",
    "from keras.layers import concatenate, Conv1D, MaxPooling1D\n",
    "from keras.utils import to_categorical\n",
    "\n",
    "\n",
    "input_shape = (xdim,ydim,1)\n",
    "# create two different input (going through the same NN)\n",
    "left_input =  Input(input_shape)\n",
    "right_input =  Input(input_shape)\n",
    "encoded_left = ENC(left_input)             \n",
    "encoded_right = ENC(right_input)\n",
    "both = concatenate([encoded_left,encoded_right])\n",
    "\n",
    "# Do not train the encoder\n",
    "ENC.trainable = False\n",
    "\n",
    "x = Reshape((5*5*2,2),input_shape=(5*5*4*2,))(both)\n",
    "x = Conv1D(16,(32),activation='relu', padding='same')(x)\n",
    "x = MaxPooling1D(pool_size=(2))(x)\n",
    "x = Conv1D(32,(16),activation='relu', padding='same')(x)\n",
    "x = MaxPooling1D(pool_size=(2))(x)\n",
    "\n",
    "x = Flatten()(x)\n",
    "x = Dense(32,activation='relu')(x)\n",
    "Out = Dense(2,activation='softmax')(x)\n",
    "\n",
    "Classif = Model(input=[left_input,right_input],output=Out)\n",
    "Classif.summary()\n",
    "\n",
    "Classif.compile(optimizer='Adam',loss=\"categorical_crossentropy\", metrics=[\"accuracy\"])\n",
    "\n",
    "b_size = 32\n",
    "epochs = 30\n",
    "\n",
    "Strain_C = X_train_C.shape[0]\n",
    "Stest_C = X_test_C.shape[0]\n",
    "Classif.fit([X_train_C[:,:,:,0].reshape(Strain_C,xdim,ydim,1),X_train_C[:,:,:,1].reshape(Strain_C,xdim,ydim,1)],to_categorical(y_train_C),epochs=epochs,batch_size=b_size\n",
    "            ,validation_data=([X_test_C[:,:,:,0].reshape(Stest_C,xdim,ydim,1),X_test_C[:,:,:,1].reshape(Stest_C,xdim,ydim,1)],to_categorical(y_test_C)))"
   ]
  },
  {
   "cell_type": "markdown",
   "metadata": {},
   "source": [
    "#### We can check the learning on different cases"
   ]
  },
  {
   "cell_type": "code",
   "execution_count": 49,
   "metadata": {},
   "outputs": [
    {
     "name": "stdout",
     "output_type": "stream",
     "text": [
      "Prediction on J-O(J) samples\n",
      "[0.9118339  0.08816634]\n",
      "Prediction on J-R_q(J) samples\n",
      "[0.00458167 0.9954187 ]\n",
      "Prediction on J-L(J) samples\n",
      "[0.07529365 0.9247074 ]\n"
     ]
    }
   ],
   "source": [
    "# put only random : \n",
    "\n",
    "print(\"Prediction on J-O(J) samples\")\n",
    "print(np.mean(Classif.predict([DS_G[:,:,:,0:1],DS_G[:,:,:,1:2]]),0))\n",
    "print(\"Prediction on J-R_q(J) samples\")\n",
    "print(np.mean(Classif.predict([DS_Q[:,:,:,0:1],DS_Q[:,:,:,1:2]]),0))\n",
    "print(\"Prediction on J-L(J) samples\")\n",
    "print(np.mean(Classif.predict([DS_LINE[:,:,:,0:1],DS_LINE[:,:,:,1:2]]),0))"
   ]
  },
  {
   "cell_type": "code",
   "execution_count": null,
   "metadata": {},
   "outputs": [],
   "source": []
  }
 ],
 "metadata": {
  "kernelspec": {
   "display_name": "Python 3",
   "language": "python",
   "name": "python3"
  },
  "language_info": {
   "codemirror_mode": {
    "name": "ipython",
    "version": 3
   },
   "file_extension": ".py",
   "mimetype": "text/x-python",
   "name": "python",
   "nbconvert_exporter": "python",
   "pygments_lexer": "ipython3",
   "version": "3.6.8"
  }
 },
 "nbformat": 4,
 "nbformat_minor": 2
}
